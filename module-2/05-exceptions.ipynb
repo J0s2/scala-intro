{
 "cells": [
  {
   "cell_type": "markdown",
   "metadata": {},
   "source": [
    "![](../static/scala.jpg)"
   ]
  },
  {
   "cell_type": "markdown",
   "metadata": {},
   "source": [
    "# Exceptions"
   ]
  },
  {
   "cell_type": "markdown",
   "metadata": {},
   "source": [
    "Sometimes a function may return an **Exception** instead of return a normal value"
   ]
  },
  {
   "cell_type": "code",
   "execution_count": 4,
   "metadata": {
    "collapsed": false
   },
   "outputs": [
    {
     "data": {
      "text/plain": [
       "2.302585092994046"
      ]
     },
     "execution_count": 4,
     "metadata": {},
     "output_type": "execute_result"
    }
   ],
   "source": [
    "val x = 10.0\n",
    "if (x > 0) Math.log(x) else throw new RuntimeException(\"x must be positive\")"
   ]
  },
  {
   "cell_type": "markdown",
   "metadata": {},
   "source": [
    "The function's caller can handle the exception (try-catch) or allows the propagation of the exception to its caller (simply by terminate the execution)"
   ]
  },
  {
   "cell_type": "markdown",
   "metadata": {},
   "source": [
    "## Handling exceptions"
   ]
  },
  {
   "cell_type": "code",
   "execution_count": 20,
   "metadata": {
    "collapsed": false
   },
   "outputs": [
    {
     "name": "stdout",
     "output_type": "stream",
     "text": [
      "Runtime Exception java.lang.ArithmeticException: / by zero\n"
     ]
    },
    {
     "data": {
      "text/plain": [
       "()"
      ]
     },
     "execution_count": 20,
     "metadata": {},
     "output_type": "execute_result"
    }
   ],
   "source": [
    "// By using try-catch\n",
    "try {\n",
    "  1/0\n",
    "} catch {\n",
    "  case ex: RuntimeException => println(s\"Runtime Exception ${ex.toString}\")\n",
    "}"
   ]
  },
  {
   "cell_type": "markdown",
   "metadata": {},
   "source": [
    "Scala doesn't require that we to catch checked exceptions or to declare them in a throws clause"
   ]
  },
  {
   "cell_type": "code",
   "execution_count": 21,
   "metadata": {
    "collapsed": true
   },
   "outputs": [],
   "source": [
    "// Obsviously we may/should use/handle the exceptions in Java packages we use\n",
    "import java.io.FileNotFoundException\n",
    "import java.io.IOException"
   ]
  },
  {
   "cell_type": "markdown",
   "metadata": {},
   "source": [
    "## Finally clause"
   ]
  },
  {
   "cell_type": "markdown",
   "metadata": {},
   "source": [
    "Use **finally** to execute code no matter how the code terminates: either returning an exception or not. \n",
    "\n",
    "Examples: to close an open file, to "
   ]
  },
  {
   "cell_type": "code",
   "execution_count": 25,
   "metadata": {
    "collapsed": false
   },
   "outputs": [
    {
     "name": "stdout",
     "output_type": "stream",
     "text": [
      "{\n",
      " \"CELLS\": [\n",
      "  {\n",
      "   \"CELL_TYPE\": \"MARKDOWN\",\n",
      "   \"METADATA\": {},\n",
      "   \"SOURCE\": [\n",
      "    \"![](../STATIC/SCALA.JPG)\"\n",
      "   ]\n",
      "  },\n",
      "  {\n",
      "   \"CELL_TYPE\": \"MARKDOWN\",\n",
      "   \"METADATA\": {},\n",
      "   \"SOURCE\": [\n",
      "    \"# EXERCISES\"\n",
      "   ]\n",
      "  },\n",
      "  {\n",
      "   \"CELL_TYPE\": \"MARKDOWN\",\n",
      "   \"METADATA\": {},\n",
      "   \"SOURCE\": [\n",
      "    \"## 2.1 TO FIND THE PENULTIMATE ELEMENT OF A LIST\"\n",
      "   ]\n",
      "  },\n",
      "  {\n",
      "   \"CELL_TYPE\": \"CODE\",\n",
      "   \"EXECUTION_COUNT\": 8,\n",
      "   \"METADATA\": {\n",
      "    \"COLLAPSED\": FALSE\n",
      "   },\n",
      "   \"OUTPUTS\": [],\n",
      "   \"SOURCE\": [\n",
      "    \"DEF PENULTIMATE[T](LIST: LIST[T]): OPTION[T] = ???\"\n",
      "   ]\n",
      "  },\n",
      "  {\n",
      "   \"CELL_TYPE\": \"MARKDOWN\",\n",
      "   \"METADATA\": {\n",
      "    \"COLLAPSED\": FALSE\n",
      "   },\n",
      "   \"SOURCE\": [\n",
      "    \"## 2.2 MERGE SORT\"\n",
      "   ]\n",
      "  },\n",
      "  {\n",
      "   \"CELL_TYPE\": \"CODE\",\n",
      "   \"EXECUTION_COUNT\": 9,\n",
      "   \"METADATA\": {\n",
      "    \"COLLAPSED\": TRUE\n",
      "   },\n",
      "   \"OUTPUTS\": [],\n",
      "   \"SOURCE\": [\n",
      "    \"// MERGE SORT\\N\",\n",
      "    \"DEF MSORT[T](LESS: (T, T) => BOOLEAN, XS: LIST[T]): LIST[T] = ???\"\n",
      "   ]\n",
      "  }\n",
      " ],\n",
      " \"METADATA\": {\n",
      "  \"KERNELSPEC\": {\n",
      "   \"DISPLAY_NAME\": \"APACHE TOREE - SCALA\",\n",
      "   \"LANGUAGE\": \"SCALA\",\n",
      "   \"NAME\": \"APACHE_TOREE_SCALA\"\n",
      "  },\n",
      "  \"LANGUAGE_INFO\": {\n",
      "   \"FILE_EXTENSION\": \".SCALA\",\n",
      "   \"NAME\": \"SCALA\",\n",
      "   \"VERSION\": \"2.11.8\"\n",
      "  }\n",
      " },\n",
      " \"NBFORMAT\": 4,\n",
      " \"NBFORMAT_MINOR\": 2\n",
      "}\n"
     ]
    }
   ],
   "source": [
    "import scala.io.Source\n",
    "\n",
    "val myFile = \"exercises-2.ipynb\"\n",
    "val buffer = Source.fromFile(myFile)\n",
    "\n",
    "for(line <- buffer.getLines) {\n",
    "  println(line.toUpperCase)\n",
    "}\n",
    "buffer.close"
   ]
  },
  {
   "cell_type": "code",
   "execution_count": 27,
   "metadata": {
    "collapsed": false
   },
   "outputs": [
    {
     "name": "stdout",
     "output_type": "stream",
     "text": [
      "Exception: java.lang.ArithmeticException: / by zero\n"
     ]
    }
   ],
   "source": [
    "// Closing the file in any \n",
    "\n",
    "import scala.io.Source\n",
    "\n",
    "val myFile = \"exercises-2.ipynb\"\n",
    "val buffer = Source.fromFile(myFile)\n",
    "\n",
    "try {\n",
    "  for(line <- buffer.getLines) {\n",
    "    // Processing the line\n",
    "    // 1/0\n",
    "    println(line.toUpperCase)\n",
    "  }\n",
    "} catch {\n",
    "  case ex: Exception => println(s\"Exception: ${ex.toString}\")\n",
    "} finally {\n",
    "  buffer.close\n",
    "}"
   ]
  },
  {
   "cell_type": "code",
   "execution_count": null,
   "metadata": {
    "collapsed": true
   },
   "outputs": [],
   "source": []
  }
 ],
 "metadata": {
  "kernelspec": {
   "display_name": "Apache Toree - Scala",
   "language": "scala",
   "name": "apache_toree_scala"
  },
  "language_info": {
   "file_extension": ".scala",
   "name": "scala",
   "version": "2.11.8"
  }
 },
 "nbformat": 4,
 "nbformat_minor": 2
}

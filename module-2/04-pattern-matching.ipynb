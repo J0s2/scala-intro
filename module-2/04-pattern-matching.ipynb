{
 "cells": [
  {
   "cell_type": "markdown",
   "metadata": {},
   "source": [
    "![](../static/scala.jpg)"
   ]
  },
  {
   "cell_type": "markdown",
   "metadata": {},
   "source": [
    "## Pattern Matching"
   ]
  },
  {
   "cell_type": "code",
   "execution_count": 1,
   "metadata": {
    "collapsed": true
   },
   "outputs": [],
   "source": [
    "// first think \"Pattern matching\" like a switch in Java\n",
    "val i = 8"
   ]
  },
  {
   "cell_type": "code",
   "execution_count": 3,
   "metadata": {
    "collapsed": false
   },
   "outputs": [
    {
     "data": {
      "text/plain": [
       "Invalid month"
      ]
     },
     "execution_count": 3,
     "metadata": {},
     "output_type": "execute_result"
    }
   ],
   "source": [
    "val month = i match {\n",
    "    case 1  => \"January\"\n",
    "    case 2  => \"February\"\n",
    "    case 3  => \"March\"\n",
    "    case 4  => \"April\"\n",
    "    case 5  => \"May\"\n",
    "    case 6  => \"June\"\n",
    "    case 7  => \"July\"\n",
    "    case 8  => \"August\"\n",
    "    case 9  => \"September\"\n",
    "    case 10 => \"October\"\n",
    "    case 11 => \"November\"\n",
    "    case 12 => \"December\"\n",
    "    case _  => \"Invalid month\"  // the default, catch-all\n",
    "\n",
    "}\n",
    "month"
   ]
  },
  {
   "cell_type": "code",
   "execution_count": 4,
   "metadata": {
    "collapsed": false
   },
   "outputs": [
    {
     "name": "stdout",
     "output_type": "stream",
     "text": [
      "even\n"
     ]
    }
   ],
   "source": [
    "// You may combine options\n",
    "i match {\n",
    "    case 1 | 3 | 5 | 7 | 9 => println(\"odd\")\n",
    "    case 2 | 4 | 6 | 8 | 10 => println(\"even\")\n",
    "    case _ => println(\"pufff\")\n",
    "}"
   ]
  },
  {
   "cell_type": "code",
   "execution_count": 28,
   "metadata": {
    "collapsed": false
   },
   "outputs": [
    {
     "name": "stdout",
     "output_type": "stream",
     "text": [
      "even\n"
     ]
    }
   ],
   "source": [
    "i match {\n",
    "    case 1 => println(\"odd\") \n",
    "    case 3 => println(\"odd\")\n",
    "    case 5 | 7 | 9 => println(\"odd\")\n",
    "    case 2 | 4 | 6 | 8 | 10 => println(\"even\")\n",
    "}\n"
   ]
  },
  {
   "cell_type": "code",
   "execution_count": 9,
   "metadata": {
    "collapsed": false
   },
   "outputs": [],
   "source": [
    "val st: Any = true"
   ]
  },
  {
   "cell_type": "code",
   "execution_count": 10,
   "metadata": {
    "collapsed": false
   },
   "outputs": [
    {
     "data": {
      "text/plain": [
       "Boolean"
      ]
     },
     "execution_count": 10,
     "metadata": {},
     "output_type": "execute_result"
    }
   ],
   "source": [
    "st match {\n",
    "    case s: String => \"String\"\n",
    "    case i: Int => \"Int\"\n",
    "    case b: Boolean => \"Boolean\"\n",
    "    case l: List[_] => \"List\"\n",
    "    case _ => \"Unknown\"\n",
    "}"
   ]
  },
  {
   "cell_type": "code",
   "execution_count": 11,
   "metadata": {
    "collapsed": true
   },
   "outputs": [],
   "source": [
    "// Using pattern matching with lists\n",
    "def sum(list: List[Int]): Int = list match {\n",
    "    case Nil => 0\n",
    "    case n :: rest => n + sum(rest)\n",
    "}"
   ]
  },
  {
   "cell_type": "code",
   "execution_count": 14,
   "metadata": {
    "collapsed": false
   },
   "outputs": [
    {
     "data": {
      "text/plain": [
       "10"
      ]
     },
     "execution_count": 14,
     "metadata": {},
     "output_type": "execute_result"
    }
   ],
   "source": [
    "sum(List(1,2,3,4))"
   ]
  },
  {
   "cell_type": "code",
   "execution_count": 15,
   "metadata": {
    "collapsed": true
   },
   "outputs": [],
   "source": [
    "def third(l: List[Int]): Option[Int] = {\n",
    "   l match {\n",
    "     case e1 :: e2 :: e3 :: _ => Some(e3)\n",
    "     case _ => None\n",
    "   }\n",
    "}"
   ]
  },
  {
   "cell_type": "code",
   "execution_count": 17,
   "metadata": {
    "collapsed": false
   },
   "outputs": [
    {
     "data": {
      "text/plain": [
       "None"
      ]
     },
     "execution_count": 17,
     "metadata": {},
     "output_type": "execute_result"
    }
   ],
   "source": [
    "third(List(12,1))"
   ]
  },
  {
   "cell_type": "code",
   "execution_count": 27,
   "metadata": {
    "collapsed": true
   },
   "outputs": [],
   "source": [
    "def start0(l: List[Int]): Boolean = {\n",
    "  l match {\n",
    "    case 0 :: _ => true\n",
    "    case _ => false\n",
    "  }\n",
    "}"
   ]
  },
  {
   "cell_type": "code",
   "execution_count": 31,
   "metadata": {
    "collapsed": false
   },
   "outputs": [
    {
     "data": {
      "text/plain": [
       "true"
      ]
     },
     "execution_count": 31,
     "metadata": {},
     "output_type": "execute_result"
    }
   ],
   "source": [
    "start0(List(0,1,0))"
   ]
  },
  {
   "cell_type": "code",
   "execution_count": 1,
   "metadata": {
    "collapsed": false
   },
   "outputs": [],
   "source": [
    "def f1[T](l: List[T]): Option[T] = {\n",
    "  l match {\n",
    "    case x :: y :: z :: _ if  (x == y) && (y == z) => Some(z)\n",
    "    case _ => None  }\n",
    "}\n"
   ]
  },
  {
   "cell_type": "code",
   "execution_count": 2,
   "metadata": {
    "collapsed": false
   },
   "outputs": [
    {
     "data": {
      "text/plain": [
       "Some(11)"
      ]
     },
     "execution_count": 2,
     "metadata": {},
     "output_type": "execute_result"
    }
   ],
   "source": [
    "f1(List(\"11\", \"11\", \"11\"))"
   ]
  },
  {
   "cell_type": "code",
   "execution_count": 50,
   "metadata": {
    "collapsed": true
   },
   "outputs": [],
   "source": [
    "def xxAndNotMore(l: List[Int]): Boolean = {\n",
    "  l match {\n",
    "    case x :: y :: List() if x==y => true\n",
    "    case _ => false\n",
    "  }\n",
    "}"
   ]
  },
  {
   "cell_type": "code",
   "execution_count": 51,
   "metadata": {
    "collapsed": false
   },
   "outputs": [
    {
     "data": {
      "text/plain": [
       "true"
      ]
     },
     "execution_count": 51,
     "metadata": {},
     "output_type": "execute_result"
    }
   ],
   "source": [
    "xxAndNotMore(List(1,1))"
   ]
  },
  {
   "cell_type": "code",
   "execution_count": null,
   "metadata": {
    "collapsed": true
   },
   "outputs": [],
   "source": []
  }
 ],
 "metadata": {
  "kernelspec": {
   "display_name": "Apache Toree - Scala",
   "language": "scala",
   "name": "apache_toree_scala"
  },
  "language_info": {
   "file_extension": ".scala",
   "name": "scala",
   "version": "2.11.8"
  }
 },
 "nbformat": 4,
 "nbformat_minor": 2
}

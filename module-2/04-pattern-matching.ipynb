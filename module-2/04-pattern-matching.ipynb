{
 "cells": [
  {
   "cell_type": "markdown",
   "metadata": {},
   "source": [
    "![](../static/scala.jpg)"
   ]
  },
  {
   "cell_type": "markdown",
   "metadata": {},
   "source": [
    "## Pattern Matching"
   ]
  },
  {
   "cell_type": "code",
   "execution_count": 3,
   "metadata": {
    "collapsed": true
   },
   "outputs": [],
   "source": [
    "// first think \"Pattern matching\" like a switch in Java\n",
    "val i = 111"
   ]
  },
  {
   "cell_type": "code",
   "execution_count": 4,
   "metadata": {
    "collapsed": false
   },
   "outputs": [
    {
     "data": {
      "text/plain": [
       "Invalid month"
      ]
     },
     "execution_count": 4,
     "metadata": {},
     "output_type": "execute_result"
    }
   ],
   "source": [
    "val month = i match {\n",
    "    case 1  => \"January\"\n",
    "    case 2  => \"February\"\n",
    "    case 3  => \"March\"\n",
    "    case 4  => \"April\"\n",
    "    case 5  => \"May\"\n",
    "    case 6  => \"June\"\n",
    "    case 7  => \"July\"\n",
    "    case 8  => \"August\"\n",
    "    case 9  => \"September\"\n",
    "    case 10 => \"October\"\n",
    "    case 11 => \"November\"\n",
    "    case 12 => \"December\"\n",
    "    case _  => \"Invalid month\"  // the default, catch-all\n",
    "}\n",
    "month"
   ]
  },
  {
   "cell_type": "code",
   "execution_count": 6,
   "metadata": {
    "collapsed": false
   },
   "outputs": [
    {
     "name": "stdout",
     "output_type": "stream",
     "text": [
      "pufff\n"
     ]
    }
   ],
   "source": [
    "// You may combine options\n",
    "i match {\n",
    "    case 1 | 3 | 5 | 7 | 9 => println(\"odd\")\n",
    "    case 2 | 4 | 6 | 8 | 10 => println(\"even\")\n",
    "    case _ => println(\"pufff\")\n",
    "}"
   ]
  },
  {
   "cell_type": "code",
   "execution_count": 28,
   "metadata": {
    "collapsed": false
   },
   "outputs": [
    {
     "name": "stdout",
     "output_type": "stream",
     "text": [
      "even\n"
     ]
    }
   ],
   "source": [
    "i match {\n",
    "    case 1 => println(\"odd\") \n",
    "    case 3 => println(\"odd\")\n",
    "    case 5 | 7 | 9 => println(\"odd\")\n",
    "    case 2 | 4 | 6 | 8 | 10 => println(\"even\")\n",
    "}\n"
   ]
  },
  {
   "cell_type": "code",
   "execution_count": 14,
   "metadata": {
    "collapsed": false
   },
   "outputs": [],
   "source": [
    "val st: Any = 122"
   ]
  },
  {
   "cell_type": "code",
   "execution_count": 15,
   "metadata": {
    "collapsed": false
   },
   "outputs": [
    {
     "data": {
      "text/plain": [
       "Int"
      ]
     },
     "execution_count": 15,
     "metadata": {},
     "output_type": "execute_result"
    }
   ],
   "source": [
    "st match {\n",
    "    case s: String => \"String\"\n",
    "    case i: Int => \"Int\"\n",
    "    case b: Boolean => \"Boolean\"\n",
    "    case l: List[_] => \"List\"\n",
    "    case _ => \"Unknown\"\n",
    "}"
   ]
  },
  {
   "cell_type": "code",
   "execution_count": 16,
   "metadata": {
    "collapsed": true
   },
   "outputs": [],
   "source": [
    "// Using pattern matching with lists\n",
    "def sum(list: List[Int]): Int = list match {\n",
    "    case Nil => 0\n",
    "    case n :: rest => n + sum(rest)\n",
    "}"
   ]
  },
  {
   "cell_type": "code",
   "execution_count": 17,
   "metadata": {
    "collapsed": false
   },
   "outputs": [
    {
     "data": {
      "text/plain": [
       "8"
      ]
     },
     "execution_count": 17,
     "metadata": {},
     "output_type": "execute_result"
    }
   ],
   "source": [
    "sum(List(1,3,4))"
   ]
  }
 ],
 "metadata": {
  "kernelspec": {
   "display_name": "Apache Toree - Scala",
   "language": "scala",
   "name": "apache_toree_scala"
  },
  "language_info": {
   "file_extension": ".scala",
   "name": "scala",
   "version": "2.11.8"
  }
 },
 "nbformat": 4,
 "nbformat_minor": 2
}

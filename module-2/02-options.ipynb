{
 "cells": [
  {
   "cell_type": "markdown",
   "metadata": {},
   "source": [
    "![](../static/scala.jpg)"
   ]
  },
  {
   "cell_type": "markdown",
   "metadata": {},
   "source": [
    "## Options"
   ]
  },
  {
   "cell_type": "markdown",
   "metadata": {},
   "source": [
    "**Option** is the type for optional values\n",
    "\n",
    "Options can be of two forms:\n",
    "1. Some(v) - where v is the actual value \n",
    "2. None - the value is missing"
   ]
  },
  {
   "cell_type": "code",
   "execution_count": 4,
   "metadata": {
    "collapsed": false
   },
   "outputs": [
    {
     "data": {
      "text/plain": [
       "Name: java.util.NoSuchElementException\n",
       "Message: None.get\n",
       "StackTrace:   at scala.None$.get(Option.scala:347)\n",
       "  at scala.None$.get(Option.scala:345)"
      ]
     },
     "execution_count": 4,
     "metadata": {},
     "output_type": "execute_result"
    }
   ],
   "source": [
    "// For example, an optional value will result from the get method of a Map \n",
    "val romans = Map(1 -> \"I\", 2 -> \"II\", 3 -> \"III\", 4 -> \"IV\", 5 -> \"V\")\n",
    "romans.get(15)"
   ]
  },
  {
   "cell_type": "code",
   "execution_count": 4,
   "metadata": {
    "collapsed": false
   },
   "outputs": [
    {
     "data": {
      "text/plain": [
       "None"
      ]
     },
     "execution_count": 4,
     "metadata": {},
     "output_type": "execute_result"
    }
   ],
   "source": [
    "// If the key doesn't exist we will get a None \n",
    "romans.get(6)"
   ]
  },
  {
   "cell_type": "code",
   "execution_count": null,
   "metadata": {
    "collapsed": true
   },
   "outputs": [],
   "source": [
    "// We may indicate that a function may return a value or not\n",
    "def penultimate(list: List[Int]): Option[Int] = ???"
   ]
  },
  {
   "cell_type": "code",
   "execution_count": 6,
   "metadata": {
    "collapsed": false
   },
   "outputs": [
    {
     "data": {
      "text/plain": [
       "Name: Compile Error\n",
       "Message: <console>:20: error: type mismatch;\n",
       " found   : Option[Int]\n",
       " required: Int\n",
       "       val k: Int = penultimate(List(1,2,3,4,5))\n",
       "                               ^\n",
       "StackTrace: "
      ]
     },
     "execution_count": 6,
     "metadata": {},
     "output_type": "execute_result"
    }
   ],
   "source": [
    "// If you try to use the return value of penultimate() as an Int you will get a compilation error\n",
    "val k: Int = penultimate(List(1,2,3,4,5))"
   ]
  },
  {
   "cell_type": "code",
   "execution_count": 5,
   "metadata": {
    "collapsed": true
   },
   "outputs": [],
   "source": [
    "// Options (alternative to Java's null)\n",
    "// Option -> Some(value) or None\n",
    "\n",
    "def toInt(s: String): Option[Int] = {\n",
    "    try {\n",
    "        Some(s.toInt)\n",
    "    } catch {\n",
    "        case e: Exception => None\n",
    "    }\n",
    "}"
   ]
  },
  {
   "cell_type": "code",
   "execution_count": 7,
   "metadata": {
    "collapsed": false
   },
   "outputs": [
    {
     "data": {
      "text/plain": [
       "Some(12)"
      ]
     },
     "execution_count": 7,
     "metadata": {},
     "output_type": "execute_result"
    }
   ],
   "source": [
    "toInt(\"12\")"
   ]
  },
  {
   "cell_type": "code",
   "execution_count": 8,
   "metadata": {
    "collapsed": false
   },
   "outputs": [
    {
     "data": {
      "text/plain": [
       "15"
      ]
     },
     "execution_count": 8,
     "metadata": {},
     "output_type": "execute_result"
    }
   ],
   "source": [
    "// Accessing the actual value\n",
    "toInt(\"15\").get"
   ]
  },
  {
   "cell_type": "code",
   "execution_count": 10,
   "metadata": {
    "collapsed": false
   },
   "outputs": [
    {
     "data": {
      "text/plain": [
       "1000"
      ]
     },
     "execution_count": 10,
     "metadata": {},
     "output_type": "execute_result"
    }
   ],
   "source": [
    "// Accessing the actual value with a default value\n",
    "toInt(\"1000\").getOrElse(-100000)"
   ]
  },
  {
   "cell_type": "code",
   "execution_count": 12,
   "metadata": {
    "collapsed": false
   },
   "outputs": [
    {
     "name": "stdout",
     "output_type": "stream",
     "text": [
      "Triple of 12 is 36\n"
     ]
    }
   ],
   "source": [
    "// As we will learn in next notebooks\n",
    "// We may process option values by using pattern matching\n",
    "toInt(\"12\") match {\n",
    "    case Some(i) => println(s\"Triple of $i is ${i*3}\")\n",
    "    case None => println(\"Error: Could not convert String to Int.\")\n",
    "}"
   ]
  },
  {
   "cell_type": "code",
   "execution_count": null,
   "metadata": {
    "collapsed": true
   },
   "outputs": [],
   "source": []
  }
 ],
 "metadata": {
  "kernelspec": {
   "display_name": "Apache Toree - Scala",
   "language": "scala",
   "name": "apache_toree_scala"
  },
  "language_info": {
   "file_extension": ".scala",
   "name": "scala",
   "version": "2.11.8"
  }
 },
 "nbformat": 4,
 "nbformat_minor": 2
}

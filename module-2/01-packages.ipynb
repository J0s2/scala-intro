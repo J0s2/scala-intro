{
 "cells": [
  {
   "cell_type": "markdown",
   "metadata": {},
   "source": [
    "![](../static/scala.jpg)"
   ]
  },
  {
   "cell_type": "markdown",
   "metadata": {},
   "source": [
    "## Packages"
   ]
  },
  {
   "cell_type": "markdown",
   "metadata": {},
   "source": [
    "To create Scala packages (similar to Java): declaring a package name at the top of the file\n",
    "~~~scala\n",
    "package foo.mypackage\n",
    "\n",
    "class Foo {\n",
    "  override def toString = \"I'm foo.mypackage.Foo\"\n",
    "}\n",
    "~~~"
   ]
  },
  {
   "cell_type": "code",
   "execution_count": 11,
   "metadata": {
    "collapsed": true
   },
   "outputs": [],
   "source": [
    "/*\n",
    "Packages imported by default:\n",
    "java.lang._\n",
    "scala._\n",
    "scala.Predef._\n",
    "*/\n",
    "\n",
    "// Import examples:\n",
    "\n",
    "// import one class\n",
    "import java.io.File\n",
    "\n",
    "// import every class in a package\n",
    "import java.io._"
   ]
  },
  {
   "cell_type": "code",
   "execution_count": 12,
   "metadata": {
    "collapsed": true
   },
   "outputs": [],
   "source": [
    "// import multiple classes from a package (version 1)\n",
    "import java.io.{File, IOException, FileNotFoundException}\n",
    "\n",
    "// import multiple classes from a package (version 2)\n",
    "import java.io.File\n",
    "import java.io.FileNotFoundException\n",
    "import java.io.IOException"
   ]
  },
  {
   "cell_type": "code",
   "execution_count": 1,
   "metadata": {
    "collapsed": false
   },
   "outputs": [
    {
     "data": {
      "text/plain": [
       "2017-03-30"
      ]
     },
     "execution_count": 1,
     "metadata": {},
     "output_type": "execute_result"
    }
   ],
   "source": [
    "// Creating a class alias during import\n",
    "import java.util.{Date => UtilDate}\n",
    "import java.sql.{Date => SqlDate}\n",
    "\n",
    "// later ...\n",
    "val date = new SqlDate(System.currentTimeMillis())\n",
    "date.toString"
   ]
  },
  {
   "cell_type": "code",
   "execution_count": 2,
   "metadata": {
    "collapsed": false
   },
   "outputs": [],
   "source": [
    "// Hidding classes during import\n",
    "\n",
    "/* please, check next noteebok\n",
    "import java.util.{Random => _, _}\n",
    "*/\n",
    "\n",
    "import java.util.{Random => _, _}  //import java.util.Random"
   ]
  },
  {
   "cell_type": "code",
   "execution_count": 3,
   "metadata": {
    "collapsed": false
   },
   "outputs": [
    {
     "data": {
      "text/plain": [
       "Name: Compile Error\n",
       "Message: <console>:22: error: not found: type Random\n",
       "       val r = new Random\n",
       "                   ^\n",
       "StackTrace: "
      ]
     },
     "execution_count": 3,
     "metadata": {},
     "output_type": "execute_result"
    }
   ],
   "source": [
    "val r = new Random"
   ]
  },
  {
   "cell_type": "code",
   "execution_count": 15,
   "metadata": {
    "collapsed": false
   },
   "outputs": [
    {
     "data": {
      "text/plain": [
       "1100359785"
      ]
     },
     "execution_count": 15,
     "metadata": {},
     "output_type": "execute_result"
    }
   ],
   "source": [
    "r.nextInt"
   ]
  },
  {
   "cell_type": "code",
   "execution_count": null,
   "metadata": {
    "collapsed": true
   },
   "outputs": [],
   "source": []
  }
 ],
 "metadata": {
  "kernelspec": {
   "display_name": "Apache Toree - Scala",
   "language": "scala",
   "name": "apache_toree_scala"
  },
  "language_info": {
   "file_extension": ".scala",
   "name": "scala",
   "version": "2.11.8"
  }
 },
 "nbformat": 4,
 "nbformat_minor": 2
}

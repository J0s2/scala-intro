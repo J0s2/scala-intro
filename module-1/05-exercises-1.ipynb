{
 "cells": [
  {
   "cell_type": "code",
   "execution_count": 2,
   "metadata": {
    "collapsed": false
   },
   "outputs": [],
   "source": [
    "// function to find the penultimate element of a list\n",
    "// You should consider edge cases\n",
    "// penultimate:: list => Int\n",
    "def penultimate(list) = ???\n",
    "\n",
    "// function to find the k-th element of a list (The first element has position 0)\n",
    "def kth(list: List[Int], k: Int): Int = ???\n",
    "\n",
    "\n",
    "// function to duplicate the elements of the list a given number of times\n",
    "// For example: duplicate(List(1,2,3), 3) -> List(1,1,1,2,2,2,3,3,3)\n",
    "def duplicates(list: List[Int], k: Int): List[Int] = ???\n",
    "\n",
    "\n",
    "// function to rotate the list n places to the left\n",
    "/* For example: \n",
    "rotate(List(1,2,3,4,5), 2) -> List(3,4,5,1,2)\n",
    "rotate(List(1,2,3,4,5), -2) -> List(4,5,1,2,3)\n",
    "*/\n",
    "def rotate(list: List[Int], k: Int): List[Int] = ???"
   ]
  },
  {
   "cell_type": "code",
   "execution_count": null,
   "metadata": {
    "collapsed": true
   },
   "outputs": [],
   "source": []
  }
 ],
 "metadata": {
  "kernelspec": {
   "display_name": "Apache Toree - Scala",
   "language": "scala",
   "name": "apache_toree_scala"
  },
  "language_info": {
   "file_extension": ".scala",
   "name": "scala",
   "version": "2.11.8"
  }
 },
 "nbformat": 4,
 "nbformat_minor": 2
}

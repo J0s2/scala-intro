{
 "cells": [
  {
   "cell_type": "markdown",
   "metadata": {},
   "source": [
    "![](../static/scala.jpg)"
   ]
  },
  {
   "cell_type": "markdown",
   "metadata": {},
   "source": [
    "## Currying\n",
    "\n",
    "* Currying is functional programming technique\n",
    "* A curried function is applied to multiple argument lists instead of just one\n",
    "* You may use the placeholder notation (**_**) to use a curried function in a partial applied function"
   ]
  },
  {
   "cell_type": "code",
   "execution_count": 1,
   "metadata": {
    "collapsed": false
   },
   "outputs": [
    {
     "data": {
      "text/plain": [
       "12"
      ]
     },
     "execution_count": 1,
     "metadata": {},
     "output_type": "execute_result"
    }
   ],
   "source": [
    "def sumCurry(x: Int)(y: Int) = x+y\n",
    "\n",
    "val sumFive = sumCurry(5)_\n",
    "\n",
    "sumFive(7)"
   ]
  },
  {
   "cell_type": "markdown",
   "metadata": {},
   "source": [
    "### Merge Sort\n",
    "* Efficient, general-purpose, comparisson-based sorting algorithm\n",
    "* Developed by John von Neumann, 1945\n",
    "\n",
    "~~~Scala\n",
    "def msort[T](less: (T, T) => Boolean, xs: List[T]): List[T] = {\n",
    "\n",
    "  def merge(xs: List[T], ys: List[T]): List[T] = (xs, ys) match {\n",
    "    case (Nil, _) => ys\n",
    "    case (_, Nil) => xs\n",
    "    case (x :: xs1, y :: ys1) =>\n",
    "      if (less(x, y)) x :: merge(xs1, ys)\n",
    "      else y :: merge(xs, ys1)\n",
    "  }\n",
    "\n",
    "  val n = xs.length / 2\n",
    "  if (n == 0) xs\n",
    "  else {\n",
    "    val (ys, zs) = xs.splitAt(n)\n",
    "    merge(msort(less, ys), msort(less,zs))\n",
    "  }\n",
    "}\n",
    "~~~\n",
    "\n",
    "#### Implementation Details\n",
    "* Sorting algorithm (Divide-and-conquer strategy)\n",
    "* Generic Type T (enables to use the algorithm with List[Int] or List[String], etc.) \n",
    "* Local function (merge)\n",
    "* Pattern matching (match)\n",
    "\n",
    "#### MergeSort Using Currying"
   ]
  },
  {
   "cell_type": "code",
   "execution_count": 5,
   "metadata": {
    "collapsed": false
   },
   "outputs": [],
   "source": [
    "def msort[T](less: (T, T) => Boolean)(xs: List[T]): List[T] = {\n",
    "\n",
    "  def merge(xs: List[T], ys: List[T]): List[T] = (xs, ys) match {\n",
    "    case (Nil, _) => ys\n",
    "    case (_, Nil) => xs\n",
    "    case (x :: xs1, y :: ys1) =>\n",
    "      if (less(x, y)) x :: merge(xs1, ys)\n",
    "      else y :: merge(xs, ys1)\n",
    "  }\n",
    "\n",
    "  val n = xs.length / 2\n",
    "  if (n == 0) xs\n",
    "  else {\n",
    "    val (ys, zs) = xs.splitAt(n)\n",
    "    merge(msort(less)(ys), msort(less)(zs))\n",
    "  }\n",
    "}"
   ]
  },
  {
   "cell_type": "markdown",
   "metadata": {},
   "source": [
    "#### Using MergeSort"
   ]
  },
  {
   "cell_type": "code",
   "execution_count": 6,
   "metadata": {
    "collapsed": false
   },
   "outputs": [
    {
     "data": {
      "text/plain": [
       "List(1, 2, 3, 5, 6)"
      ]
     },
     "execution_count": 6,
     "metadata": {},
     "output_type": "execute_result"
    }
   ],
   "source": [
    "msort((x: Int, y: Int) => x<y)(List(5,3,2,1,6))"
   ]
  },
  {
   "cell_type": "code",
   "execution_count": 9,
   "metadata": {
    "collapsed": false
   },
   "outputs": [
    {
     "data": {
      "text/plain": [
       "List(D, CCC, Abcd, EEEEEEE)"
      ]
     },
     "execution_count": 9,
     "metadata": {},
     "output_type": "execute_result"
    }
   ],
   "source": [
    "msort((x:String, y:String)=>x.size<y.size)(List(\"Abcd\",\"D\",\"EEEEEEE\",\"CCC\"))"
   ]
  },
  {
   "cell_type": "code",
   "execution_count": 10,
   "metadata": {
    "collapsed": true
   },
   "outputs": [],
   "source": [
    "val intSort = msort((x: Int, y: Int)=> x<y)_"
   ]
  },
  {
   "cell_type": "code",
   "execution_count": 11,
   "metadata": {
    "collapsed": false
   },
   "outputs": [
    {
     "data": {
      "text/plain": [
       "List(1, 2, 4, 5, 6)"
      ]
     },
     "execution_count": 11,
     "metadata": {},
     "output_type": "execute_result"
    }
   ],
   "source": [
    "intSort(List(4,5,2,1,6))"
   ]
  }
 ],
 "metadata": {
  "kernelspec": {
   "display_name": "Apache Toree - Scala",
   "language": "scala",
   "name": "apache_toree_scala"
  },
  "language_info": {
   "file_extension": ".scala",
   "name": "scala",
   "version": "2.11.8"
  }
 },
 "nbformat": 4,
 "nbformat_minor": 2
}

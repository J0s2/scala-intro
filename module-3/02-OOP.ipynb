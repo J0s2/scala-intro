{
 "cells": [
  {
   "cell_type": "markdown",
   "metadata": {},
   "source": [
    " ![](../static/scala.jpg)"
   ]
  },
  {
   "cell_type": "markdown",
   "metadata": {},
   "source": [
    "## Object Oriented Programming in Scala"
   ]
  },
  {
   "cell_type": "markdown",
   "metadata": {},
   "source": [
    "### Scala Class Hierarachy\n",
    " ![](../static/scala-class-hierarchy.png)\n",
    "\n",
    "Source: Programming in Scala, Third Edition; Martin Odersky, Lex Spoon, and Bill Venners.\n"
   ]
  },
  {
   "cell_type": "markdown",
   "metadata": {},
   "source": [
    "Please notice:\n",
    "1. Analogy with Java Class Hierarachy (AnyRef vs Object)\n",
    "2. Implicit convertion\n",
    "3. Bottom classes"
   ]
  },
  {
   "cell_type": "code",
   "execution_count": null,
   "metadata": {
    "collapsed": true
   },
   "outputs": [],
   "source": [
    "val i = 10 // int\n",
    "val j: Long = i\n",
    "j"
   ]
  },
  {
   "cell_type": "markdown",
   "metadata": {},
   "source": [
    "Predefined error message (scala.Predef)\n",
    "~~~Scala\n",
    "def error(message: String): Nothing =\n",
    "throw new RuntimeException(message)\n",
    "~~~"
   ]
  },
  {
   "cell_type": "code",
   "execution_count": 27,
   "metadata": {
    "collapsed": false
   },
   "outputs": [],
   "source": [
    "def idiv(x1: Int, x2: Int): Int = {\n",
    "  if (x2==0)scala.Predef.error(\"error\") \n",
    "  else x1/x2 \n",
    "}"
   ]
  },
  {
   "cell_type": "code",
   "execution_count": 23,
   "metadata": {
    "collapsed": false
   },
   "outputs": [],
   "source": [
    "idiv(1,2)"
   ]
  },
  {
   "cell_type": "markdown",
   "metadata": {},
   "source": [
    "### Classes \n",
    "\n",
    "A class is like a template for build objects. Inside its definition you place the members: fields or methods.\n",
    "* Fields (val o var) correspond to the state of the object\n",
    "* Methods (def) contain the objects behaviour\n",
    "\n",
    "After a class is defined, we may create instances with the keyword **new**"
   ]
  },
  {
   "cell_type": "code",
   "execution_count": null,
   "metadata": {
    "collapsed": true
   },
   "outputs": [],
   "source": [
    "// Class definition\n",
    "class MiniStack {\n",
    "  private val buffer = new Array[Int](10)\n",
    "  def push(x: Int): Unit = {\n",
    "    buffer(0) += 1\n",
    "    buffer(buffer(0)) = x\n",
    "  }\n",
    "  def isEmpty(): Boolean = buffer(0) == 0\n",
    "  def pop(): Option[Int] = buffer(0) match {\n",
    "    case 0 => None\n",
    "    case _ => Some(buffer(buffer(0)))\n",
    "  }\n",
    "}"
   ]
  },
  {
   "cell_type": "code",
   "execution_count": 3,
   "metadata": {
    "collapsed": true
   },
   "outputs": [],
   "source": [
    "// Object creation and methods invocation\n",
    "val myStack = new MiniStack\n",
    "myStack.push(10)\n",
    "myStack.push(11)\n",
    "myStack.push(12)\n",
    "println(myStack.pop())"
   ]
  },
  {
   "cell_type": "markdown",
   "metadata": {},
   "source": [
    "### Procedures (Unit)\n",
    "\n",
    "One example of procedures (functions that doesn't return a value) \n",
    "~~~Scala\n",
    "def push(x: Int): Unit = {\n",
    "    buffer(0) += 1\n",
    "    buffer(buffer(0)) = x\n",
    "  }\n",
    "~~~\n",
    "\n",
    "Scala **Unit** is the equivalent for Java **void**\n",
    "\n",
    "Scala infers **Unit** as \"returning\" type if: code inside **{...}** and **=** is removed:\n",
    "~~~Scala\n",
    "def push(x: Int)  {\n",
    "    buffer(0) += 1\n",
    "    buffer(buffer(0)) = x\n",
    "  }\n",
    "~~~"
   ]
  },
  {
   "cell_type": "code",
   "execution_count": 30,
   "metadata": {
    "collapsed": false
   },
   "outputs": [
    {
     "name": "stdout",
     "output_type": "stream",
     "text": [
      "Greetings 1 => [()]\n",
      "Greetings 2 => [hi Daniela]\n",
      "Greetings 3 => [()]\n"
     ]
    }
   ],
   "source": [
    "/* testing Unit */\n",
    "def greetings1(name: String): Unit = {\"hi \" + name}\n",
    "def greetings2(name: String) = {\"hi \" + name}\n",
    "def greetings3(name: String) {\"hi \" + name}\n",
    "\n",
    "/* */\n",
    "println(\"Greetings 1 => [\" + greetings1(\"Daniela\") + \"]\")\n",
    "println(\"Greetings 2 => [\" + greetings2(\"Daniela\") + \"]\")\n",
    "println(\"Greetings 3 => [\" + greetings3(\"Daniela\") + \"]\")"
   ]
  },
  {
   "cell_type": "markdown",
   "metadata": {},
   "source": [
    "### Private Members\n",
    "\n",
    "To declare a private member you should place the private class modifier in front of the member. Example:\n",
    "~~~ Scala\n",
    "class MyClass {\n",
    "  private var counter: Int = 0\n",
    "  private def check(): Boolean = counter>0 && counter<1000\n",
    "  //...\n",
    "}\n",
    "~~~"
   ]
  },
  {
   "cell_type": "code",
   "execution_count": null,
   "metadata": {
    "collapsed": true
   },
   "outputs": [],
   "source": []
  },
  {
   "cell_type": "markdown",
   "metadata": {},
   "source": [
    "### Primary and Auxiliary Constructors\n",
    "\n",
    "The Scala compiler creates a **primary constructor** that takes the parameters of the class and it will compile any code inside the body class that is not part of a member (field nor method) \n",
    "\n",
    "Auxiliary constructors are defined with method name **this** applied to a different list of parameters and the first instruction is a call to the **primary constructor** (Therefore, the **primary constructor** is single entry to the class)\n",
    "\n",
    "For example:\n",
    "~~~ Scala\n",
    "class C1 {\n",
    "  def this(x: Int) =  {\n",
    "    this()\n",
    "    // ...\n",
    "  }\n",
    "  //...\n",
    "}\n",
    "~~~"
   ]
  },
  {
   "cell_type": "markdown",
   "metadata": {},
   "source": [
    "### Class Parameters\n",
    "\n",
    "As said, classes can take parameters. Class parameters can make more concise the class definition.\n",
    "\n",
    "Class parameters are by default are private, in order to make them public you should use the keyword **val**\n",
    "\n",
    "Example\n",
    "~~~ Scala\n",
    "class A(x: Int) {\n",
    "  def fn1(y: Int): Int = x*y\n",
    "}\n",
    "\n",
    "class B(val x: Int) {\n",
    "  def fn1(y: Int): Int = x*y\n",
    "}\n",
    "\n",
    "class C(var x: Int) {\n",
    "  def fn1(y: Int): Int = x*y\n",
    "}\n",
    "~~~"
   ]
  },
  {
   "cell_type": "code",
   "execution_count": 70,
   "metadata": {
    "collapsed": false
   },
   "outputs": [
    {
     "name": "stdout",
     "output_type": "stream",
     "text": [
      "a1*5 => 50\n",
      "b1*5 = 500\n",
      "b1.x = 100\n",
      "c1*5 = 5000\n",
      "c1.x = 1000\n",
      "now c1.x = 10000\n"
     ]
    }
   ],
   "source": [
    "class A(x: Int) {\n",
    "  def fn1(y: Int): Int = x*y\n",
    "}\n",
    "\n",
    "class B(val x: Int) {\n",
    "  def fn1(y: Int): Int = x*y\n",
    "}\n",
    "\n",
    "class C(var x: Int) {\n",
    "  def fn1(y: Int): Int = x*y\n",
    "}\n",
    "\n",
    "val a1 = new A(10)\n",
    "println(s\"a1*5 => ${a1.fn1(5)}\")\n",
    "// Error: a1.x\n",
    "\n",
    "val b1 = new B(100)\n",
    "println(s\"b1*5 = ${b1.fn1(5)}\")\n",
    "println(s\"b1.x = ${b1.x}\")\n",
    "// Error: b1.x = 1000\n",
    "\n",
    "val c1 = new C(1000)\n",
    "println(s\"c1*5 = ${c1.fn1(5)}\")\n",
    "println(s\"c1.x = ${c1.x}\")\n",
    "c1.x = 10000\n",
    "println(s\"now c1.x = ${c1.x}\")"
   ]
  },
  {
   "cell_type": "code",
   "execution_count": null,
   "metadata": {
    "collapsed": false
   },
   "outputs": [],
   "source": []
  },
  {
   "cell_type": "markdown",
   "metadata": {},
   "source": [
    "### Singleton Objects\n",
    "\n",
    "* **Singleton Objects** are defined using the keyword ***object***\n",
    "\n",
    "* A singleton object with the same name that a class in the same source file is called a **Companion Object**, and the class ia called a **Companion Class**\n",
    "\n",
    "* Companion Objects and Companion Class has access to each other's members (including private members)\n",
    "\n",
    "* Singleton Objects is the place you may define the static members used in Java\n",
    "\n",
    "* Singleton Objects can not take parameters (you can't create a new instance with keyword **new**)\n",
    "\n",
    "* Singleton Objects that are not companion objects are called **standalone objects** (could be used to collect utility functions or to be used as the entry point of the application)"
   ]
  },
  {
   "cell_type": "code",
   "execution_count": 24,
   "metadata": {
    "collapsed": false,
    "slideshow": {
     "slide_type": "-"
    }
   },
   "outputs": [],
   "source": [
    "object Juan {\n",
    "    val name = \"Juan\"\n",
    "    def greeting() = \"Hola \" + name\n",
    "}"
   ]
  },
  {
   "cell_type": "markdown",
   "metadata": {},
   "source": [
    "### Parameterless Methods\n",
    "\n",
    "You may define parameterless methods\n",
    "~~~ Scala\n",
    "def size: Int\n",
    "~~~\n",
    "\n",
    "These are different to empty-paren methods\n",
    "~~~ Scala\n",
    "def size(): Int\n",
    "~~~\n",
    "\n",
    "The recommendation:\n",
    "To use parameterless methods if:\n",
    "1. There are not parameter\n",
    "2. Methods does not change the state\n",
    "\n",
    "Following this recommendation enforces the **uniform access principle** that states: \"client code should not be affected by the of decision of member implementation: implemented as a field or as a method\".\n",
    "\n",
    "Therefore, **def** in parameterless methods should be substituted by a **val** and viceversa\n",
    "\n",
    "#### Take in consideration: \n",
    "* implementation as a field should be faster (values are precomputed) \n",
    "* and requires extra space of memory.\n"
   ]
  },
  {
   "cell_type": "code",
   "execution_count": 11,
   "metadata": {
    "collapsed": true
   },
   "outputs": [],
   "source": [
    "def size1: Int = 42\n",
    "def size2(): Int = 43"
   ]
  },
  {
   "cell_type": "code",
   "execution_count": 15,
   "metadata": {
    "collapsed": false,
    "scrolled": true
   },
   "outputs": [
    {
     "data": {
      "text/plain": [
       "43"
      ]
     },
     "execution_count": 15,
     "metadata": {},
     "output_type": "execute_result"
    }
   ],
   "source": []
  },
  {
   "cell_type": "markdown",
   "metadata": {},
   "source": [
    "### Inheritance\n",
    "\n",
    "One way to reuse code is **Inheritance**\n",
    "\n",
    "A class may inherit from other class by using the keyword **extends** \n",
    "\n",
    "If class B extends from class A, we say: A is the superclass of B and B is a subclass of A\n",
    "\n",
    "Public (and protected) members of a superclass are accesible from the subclasses\n",
    "\n",
    "If clause **extends** is not present in the class definition then class extends from the class AnyRef (Object in Java)\n",
    "\n",
    "Example:\n",
    "~~~ Scala\n",
    "class A {\n",
    "  private val a: Int = 10\n",
    "  val b = 11\n",
    "  def fa(k: Int):Int = a*k\n",
    "  def fab(k: Int):Int = fa(k)*b\n",
    "}\n",
    "\n",
    "class B extends A {\n",
    "  val c: 12\n",
    "  def fc(k: Int):Int = fab(k)*c\n",
    "}\n",
    "~~~"
   ]
  },
  {
   "cell_type": "markdown",
   "metadata": {},
   "source": [
    "### Relation between Classes\n",
    "\n",
    "The relations between classes could be: inheritance or composition. Both are ways to reuse code.\n",
    "\n",
    "* **Inheritance** key question: is an is-a relationship?\n",
    "* **Composition** the class use objects of other classes\n",
    "\n",
    "Example of class-composition:\n",
    "~~~ Scala\n",
    "class A {\n",
    "  private val a: Int = 10\n",
    "  val b = 11\n",
    "  def fa(k: Int):Int = a*k\n",
    "  def fab(k: Int):Int = fa(k)*b\n",
    "}\n",
    "\n",
    "class B(a1: A) {\n",
    "  val c = 12\n",
    "  def fc(k: Int):Int = a1.fab(k)*c\n",
    "}\n",
    "~~~\n"
   ]
  },
  {
   "cell_type": "markdown",
   "metadata": {},
   "source": [
    "### Overriding Members\n",
    "\n",
    "When you inherit from a class you may overwrite a member (field or method) by using the keyword **overwrite**\n",
    "\n",
    "A typical use is overwrite the method **toString()**"
   ]
  },
  {
   "cell_type": "code",
   "execution_count": 23,
   "metadata": {
    "collapsed": false
   },
   "outputs": [],
   "source": [
    "class A {\n",
    "  private val a: Int = 10\n",
    "  val b = 11\n",
    "  def fa(k: Int):Int = a*k\n",
    "  def fab(k: Int):Int = fa(k)*b\n",
    "}\n",
    "\n",
    "class B extends A {\n",
    "  override val b = 5\n",
    "  val c = 12\n",
    "  def fc(k: Int):Int = fab(k)*c\n",
    "}"
   ]
  },
  {
   "cell_type": "code",
   "execution_count": 24,
   "metadata": {
    "collapsed": false
   },
   "outputs": [
    {
     "data": {
      "text/plain": [
       "600"
      ]
     },
     "execution_count": 24,
     "metadata": {},
     "output_type": "execute_result"
    }
   ],
   "source": [
    "val b1 = new B\n",
    "b1.fc(1)"
   ]
  },
  {
   "cell_type": "markdown",
   "metadata": {},
   "source": [
    "### Overloading Methods\n",
    "\n",
    "You may overload a method by providing the a method with the same name a differente signature\n",
    "\n",
    "Auxiliar constructors is an example of overloading methods\n",
    "\n",
    "In Scala there are operator identifiers (sequences of one of many characters like: +, -, :, ?, ~, #..) and therefore you may overload operators (see next example)"
   ]
  },
  {
   "cell_type": "code",
   "execution_count": null,
   "metadata": {
    "collapsed": true
   },
   "outputs": [],
   "source": []
  },
  {
   "cell_type": "markdown",
   "metadata": {},
   "source": [
    "### Example 1: Complex Numbers"
   ]
  },
  {
   "cell_type": "code",
   "execution_count": 39,
   "metadata": {
    "collapsed": false
   },
   "outputs": [],
   "source": [
    "/* Complex Number */\n",
    "class Complex(val re: Double, val im: Double) {\n",
    "    def this(re: Double) = this(re, 0.0)\n",
    "    def +(that: Complex): Complex = new Complex(re+that.re, im+that.im)\n",
    "    def -(that: Complex): Complex = new Complex(re-that.re, im-that.im)\n",
    "    def --(that: Complex): Complex = new Complex(re-that.re-1, im-that.im-1)\n",
    "    override def toString() = if (im>=0) \"\" + re + \"+\" + im + \"i\" else \"\" + re + \"\" + im + \"i\"\n",
    "}"
   ]
  },
  {
   "cell_type": "code",
   "execution_count": 40,
   "metadata": {
    "collapsed": false
   },
   "outputs": [
    {
     "name": "stdout",
     "output_type": "stream",
     "text": [
      "3.0+2.0i\n",
      "-2.0+1.0i\n",
      "1.0+3.0i\n",
      "0.0+10.0i\n",
      "-1.0+9.0i\n"
     ]
    }
   ],
   "source": [
    "val n1 = new Complex(3,2)                        \n",
    "val n2 = new Complex(-2,1)                       \n",
    "val n3 = n1 + n2                                 \n",
    "val n4 = n3 - new Complex(1,-7)   \n",
    "val n5 = n3.--(new Complex(1,-7)) \n",
    "println(n1)\n",
    "println(n2)\n",
    "println(n3)\n",
    "println(n4)\n",
    "println(n5)"
   ]
  },
  {
   "cell_type": "markdown",
   "metadata": {},
   "source": [
    "### Implicit Conversions"
   ]
  },
  {
   "cell_type": "code",
   "execution_count": 69,
   "metadata": {
    "collapsed": false
   },
   "outputs": [
    {
     "data": {
      "text/plain": [
       "Name: Unknown Error\n",
       "Message: <console>:24: error: overloaded method value + with alternatives:\n",
       "  (x: Double)Double <and>\n",
       "  (x: Float)Float <and>\n",
       "  (x: Long)Long <and>\n",
       "  (x: Int)Int <and>\n",
       "  (x: Char)Int <and>\n",
       "  (x: Short)Int <and>\n",
       "  (x: Byte)Int <and>\n",
       "  (x: String)String\n",
       " cannot be applied to (Complex)\n",
       "       2 + n1\n",
       "         ^\n",
       "StackTrace: "
      ]
     },
     "execution_count": 69,
     "metadata": {},
     "output_type": "execute_result"
    }
   ],
   "source": [
    "2 + n1"
   ]
  },
  {
   "cell_type": "code",
   "execution_count": 71,
   "metadata": {
    "collapsed": false
   },
   "outputs": [
    {
     "data": {
      "text/plain": [
       "5.0+2.0i"
      ]
     },
     "execution_count": 71,
     "metadata": {},
     "output_type": "execute_result"
    }
   ],
   "source": [
    "implicit def intToComplex(x: Int) = new Complex(x)\n",
    "\n",
    "2 + n1                                  "
   ]
  },
  {
   "cell_type": "markdown",
   "metadata": {},
   "source": [
    "### Final members and Final Classes\n",
    "\n",
    "* Members with modifier **final** can't be overriding\n",
    "* Class with modifier **final** can't be extended"
   ]
  },
  {
   "cell_type": "markdown",
   "metadata": {},
   "source": [
    "### Polymorphism and Dynamic Binding\n",
    "\n",
    "Polymorphism means \"many forms\"\n",
    "\n",
    "\n",
    "Example:\n",
    "~~~ Scala\n",
    "class SayHello {\n",
    "  def greeting(): String = \"Hi\"\n",
    "}\n",
    "\n",
    "class SayHelloSpanish extends SayHello {\n",
    "  override def greeting(): String = \"Hola\"\n",
    "}\n",
    "\n",
    "class SayHelloDeutsch extends SayHello {\n",
    "  override def greeting(): String = s\"Hallo\"\n",
    "}\n",
    "\n",
    "class SayHelloCuban extends SayHelloSpanish {\n",
    "  override def greeting(): String = super.greeting() + \" asere\"\n",
    "}\n",
    "\n",
    "val s1 : SayHello = new SayHelloSpanish\n",
    "\n",
    "def greeting(s: SayHello) {println(s.greeting())}\n",
    "\n",
    "greeting(new SayHelloCuban)\n",
    "greeting(s1)\n",
    "~~~\n",
    "\n",
    "Two things to notice:\n",
    "1. The type of the val (left of the equals sign) has to be a supertype of the type of the expression (right of equals sign)\n",
    "2. Methods invocation on variables and expressions are determined at runtime based on the class of the object (dynamic binding)\n"
   ]
  },
  {
   "cell_type": "code",
   "execution_count": 53,
   "metadata": {
    "collapsed": true
   },
   "outputs": [],
   "source": [
    "class SayHello {\n",
    "  def greeting(): String = \"Hi\"\n",
    "}\n",
    "\n",
    "class SayHelloSpanish extends SayHello {\n",
    "  override def greeting(): String = \"Hola\"\n",
    "}\n",
    "\n",
    "class SayHelloDeutsch extends SayHello {\n",
    "  override def greeting(): String = s\"Hallo\"\n",
    "}\n",
    "\n",
    "class SayHelloCuban extends SayHelloSpanish {\n",
    "  override def greeting(): String = super.greeting() + \" asere\"\n",
    "}"
   ]
  },
  {
   "cell_type": "code",
   "execution_count": 58,
   "metadata": {
    "collapsed": true
   },
   "outputs": [],
   "source": [
    "val s1 : SayHello = new SayHelloDeutsch"
   ]
  },
  {
   "cell_type": "code",
   "execution_count": 57,
   "metadata": {
    "collapsed": false
   },
   "outputs": [
    {
     "name": "stdout",
     "output_type": "stream",
     "text": [
      "Hola asere\n"
     ]
    }
   ],
   "source": [
    "def greeting(s: SayHello) {println(s.greeting())}\n",
    "\n",
    "greeting(new SayHelloCuban)\n"
   ]
  },
  {
   "cell_type": "markdown",
   "metadata": {},
   "source": [
    "### Abstract Classes and Abstract Members\n",
    "\n",
    "A non-defined member of a class is called an **abstract member** \n",
    "\n",
    "Abstract classes are defined with the modifier **abstract** and may or not contains abstract members\n",
    "\n",
    "Classes with abstract members must be defined as **abstract**\n",
    "\n",
    "Abstract classes can not be instantiated\n",
    "\n",
    "Abstract classes are intended to encapsulate code or fields to be reused (inherited from it)\n",
    "\n",
    "Example\n",
    "~~~ Scala\n",
    "abstract class A {\n",
    "  val x: Int\n",
    "  def fn1(y: Int): Int = x*y\n",
    "  def fn2(y: Int): Int\n",
    "}\n",
    "\n",
    "class B extends A {\n",
    "  val x: Int = 10 //Please notice, is not overriding\n",
    "  def fn2(y: Int): Int = y+x\n",
    "}\n",
    "\n",
    "class C extends A {\n",
    "  val x: Int = 100\n",
    "  def fn2(y: Int): Int = x -y\n",
    "}\n",
    "\n",
    "~~~\n",
    "\n",
    "Non-abstract classes are called **concrete classes**"
   ]
  },
  {
   "cell_type": "code",
   "execution_count": 66,
   "metadata": {
    "collapsed": false
   },
   "outputs": [],
   "source": [
    "abstract class A {\n",
    "  val x: Int\n",
    "  def fn1(y: Int): Int = x*y\n",
    "  def fn2(y: Int): Int\n",
    "}\n",
    "\n",
    "class B extends A {\n",
    "  val x: Int = 10\n",
    "  def fn2(y: Int): Int = y+x\n",
    "}\n",
    "\n",
    "class C extends A {\n",
    "  val x: Int = 100\n",
    "  def fn2(y: Int): Int = x -y\n",
    "}\n"
   ]
  },
  {
   "cell_type": "code",
   "execution_count": 67,
   "metadata": {
    "collapsed": false
   },
   "outputs": [],
   "source": [
    "// val a = new A // Error: Abstract class cannot be instantiated\n",
    "val b1 = new B\n",
    "val c1 = new C"
   ]
  },
  {
   "cell_type": "markdown",
   "metadata": {},
   "source": [
    "### Traits \n",
    "\n",
    "Like in Java, in Scala there are not multiple inheritance\n",
    "\n",
    "Traits are the mean to overcome this \"limitation\" (like in Java by using interfaces)\n",
    "\n",
    "When you define a class can extends one class and mix it with a number of traits (using the keyword **with** repeteadly)\n",
    "\n",
    "A **trait** its like an interface in Java with some differences, for example traits may contain concrete methods\n",
    "\n",
    "The traits may contains members definitions or abstracts\n",
    "\n",
    "Example: \n",
    "~~~ Scala\n",
    "trait Similarity {\n",
    "    def isSimilar(x: String): Boolean\n",
    "    def isNotSimilar(x: String): Boolean = !isSimilar(x)\n",
    "}\n",
    "\n",
    "class Point(val x: Int, val y: Int) extends Similarity {\n",
    "    def isSimilar(that: Point): Boolean = Math.abs(this.x-that.x) +  Math.abs(this.y-that.y) < 1\n",
    "}\n",
    "\n",
    "class Circle(val x: Int, val y: Int, val r: Int) extends Similarity {\n",
    "    def isSimilar(that: Any): Boolean = that.isInstanceOf[Circle] && (Math.abs(this.x-that.asInstanceOf[Circle].x) \n",
    "        +  Math.abs(this.y-that.asInstanceOf[Circle].y) <= 2) && (Math.abs(this.r-that.asInstanceOf[Circle].r) <= 3)\n",
    "}\n",
    "\n",
    "class MyString(val st: String) extends Similarity {\n",
    "    def isSimilar(that: Any): Boolean = that.isInstanceOf[MyString] && \n",
    "      (this.st.size == that.asInstanceOf[MyString].st.size)\n",
    "}\n",
    "~~~\n",
    "\n",
    "Please notice that Point \"extends\" from a trait, indeed extends from trait super class, in this case AnyRef\n"
   ]
  },
  {
   "cell_type": "code",
   "execution_count": 87,
   "metadata": {
    "collapsed": false,
    "slideshow": {
     "slide_type": "-"
    }
   },
   "outputs": [],
   "source": [
    "// Trait example\n",
    "trait Similarity {\n",
    "    def isSimilar(x: Any): Boolean\n",
    "    def isNotSimilar(x: Any): Boolean = !isSimilar(x)\n",
    "}\n",
    "\n",
    "class Point(val x: Int, val y: Int) extends Similarity {\n",
    "    def isSimilar(that: Any): Boolean = that.isInstanceOf[Point] && (Math.abs(this.x-that.asInstanceOf[Point].x) \n",
    "        +  Math.abs(this.y-that.asInstanceOf[Point].y) <= 2)\n",
    "}\n",
    "\n",
    "class Circle(val x: Int, val y: Int, val r: Int) extends Similarity {\n",
    "    def isSimilar(that: Any): Boolean = that.isInstanceOf[Circle] && (Math.abs(this.x-that.asInstanceOf[Circle].x) \n",
    "        +  Math.abs(this.y-that.asInstanceOf[Circle].y) <= 2) && (Math.abs(this.r-that.asInstanceOf[Circle].r) <= 3)\n",
    "}\n",
    "\n",
    "class MyString(val st: String) extends Similarity {\n",
    "    def isSimilar(that: Any): Boolean = that.isInstanceOf[MyString] && \n",
    "      (this.st.size == that.asInstanceOf[MyString].st.size)\n",
    "}"
   ]
  },
  {
   "cell_type": "code",
   "execution_count": 82,
   "metadata": {
    "collapsed": false
   },
   "outputs": [
    {
     "name": "stdout",
     "output_type": "stream",
     "text": [
      "(5,5) is similar to (8,8): false\n",
      "(5,5) is similar to (4,5): true\n"
     ]
    }
   ],
   "source": [
    "val p1 = new Point(5,5)\n",
    "val p2 = new Point(8,8)\n",
    "val p3 = new Point(4,5)\n",
    "println(s\"(5,5) is similar to (8,8): ${p1.isSimilar(p2)}\")\n",
    "println(s\"(5,5) is similar to (4,5): ${p1.isSimilar(p3)}\")"
   ]
  },
  {
   "cell_type": "code",
   "execution_count": 85,
   "metadata": {
    "collapsed": false
   },
   "outputs": [
    {
     "name": "stdout",
     "output_type": "stream",
     "text": [
      "c1 is similar to c2: false\n"
     ]
    }
   ],
   "source": [
    "val c1 = new Circle(5,5,10)\n",
    "val c2 = new Circle(4,8,10)\n",
    "println(s\"c1 is similar to c2: ${c1.isSimilar(c2)}\")"
   ]
  },
  {
   "cell_type": "code",
   "execution_count": 89,
   "metadata": {
    "collapsed": false
   },
   "outputs": [
    {
     "data": {
      "text/plain": [
       "true"
      ]
     },
     "execution_count": 89,
     "metadata": {},
     "output_type": "execute_result"
    }
   ],
   "source": [
    "val st1 = new MyString(\"Daniel\")\n",
    "st1.isSimilar(new MyString(\"Juanaa\"))"
   ]
  },
  {
   "cell_type": "markdown",
   "metadata": {},
   "source": [
    "### When to use a Trait or a Class?\n",
    "\n",
    "You should follow recommendations:\n",
    "1. Does the behaviour will not be reused? => Class\n",
    "2. Does it will be reused in multiples, unrelated classes? => Trait\n",
    "3. Does it will be inherited from it in Java code? => Class\n",
    "4. Still in doubt? => **Start** by using a Trait "
   ]
  },
  {
   "cell_type": "code",
   "execution_count": null,
   "metadata": {
    "collapsed": true
   },
   "outputs": [],
   "source": []
  },
  {
   "cell_type": "code",
   "execution_count": null,
   "metadata": {
    "collapsed": true
   },
   "outputs": [],
   "source": []
  },
  {
   "cell_type": "markdown",
   "metadata": {},
   "source": [
    "###  Application Trait\n",
    "\n",
    "A Scala application requires the corresponding **main** method (with correct signature):\n",
    "~~~ Scala\n",
    "object MyApp {\n",
    "  def main(args: Array[String]) {\n",
    "    println(\"Hello World!\")\n",
    "  }\n",
    "}\n",
    "~~~\n",
    "\n",
    "By using the Application trait your code will be more concise:\n",
    "~~~ Scala\n",
    "object MyApp extends Application {\n",
    "  println(\"Hello World\")\n",
    "}\n",
    "~~~\n",
    "\n",
    "Drawbacks of the Application trait:\n",
    "* Command line arguments (args) is not available\n",
    "* Your program must be single-threated\n",
    "* Some implementations of JVM do not optimize the initialization code of an object which is executed by the Application trait\n",
    "\n",
    "When to use the Application trait? Just in simple single thread applications "
   ]
  },
  {
   "cell_type": "markdown",
   "metadata": {},
   "source": [
    "### Example 2:"
   ]
  },
  {
   "cell_type": "code",
   "execution_count": 56,
   "metadata": {
    "collapsed": false
   },
   "outputs": [],
   "source": [
    "class Point(val x:Int, val y:Int) {\n",
    "    def move(dx: Int, dy: Int): Point = new Point(x+dx, y+dy)\n",
    "    override def toString(): String = s\"[${x},${y}]\"\n",
    "  }\n",
    " "
   ]
  },
  {
   "cell_type": "code",
   "execution_count": 57,
   "metadata": {
    "collapsed": true
   },
   "outputs": [],
   "source": [
    "class Shape {\n",
    "    def perimeter: Double = 0\n",
    "    def area: Double = 0\n",
    "}"
   ]
  },
  {
   "cell_type": "code",
   "execution_count": 58,
   "metadata": {
    "collapsed": true
   },
   "outputs": [],
   "source": [
    "class Rectangle(val topLeft: Point, val bottomRight: Point) extends Shape {\n",
    "    val minX = topLeft.x\n",
    "    val maxX = bottomRight.x\n",
    "    val minY = topLeft.y\n",
    "    val maxY = bottomRight.y\n",
    "    \n",
    "    val width = maxX - minX\n",
    "    val heigh = maxY - minY\n",
    "    \n",
    "    def this(x: Int, y:Int, width: Int, heigh: Int) = this(new Point(x,y), new Point(x+width, y+heigh))\n",
    "         \n",
    "    override def perimeter = 2*(width + heigh)\n",
    "    override def area = width * heigh\n",
    "    \n",
    "    def +(that: Rectangle): Rectangle = {\n",
    "      val x1 = if (this.minX < that.minX) this.minX else that.minX\n",
    "      val y1 = if (this.minY < that.minY) this.minY else that.minY\n",
    "      val x2 = if (this.maxX > that.maxX) this.maxX else that.maxX\n",
    "      val y2 = if (this.maxY > that.maxY) this.maxY else that.maxY\n",
    "      new Rectangle(new Point(x1,y1), new Point(x2, y2))\n",
    "    }\n",
    "    \n",
    "    def move(dx: Int, dy: Int): Rectangle = new Rectangle(topLeft.move(dx,dy), bottomRight.move(dx,dy))\n",
    "    \n",
    "    def contains(p: Point): Boolean = {p.x>=minX && p.x<=maxX && p.y>=minY && p.y<=maxY}\n",
    "    \n",
    "    override def toString(): String = topLeft.toString() + \" - \" + bottomRight.toString()\n",
    "  }"
   ]
  },
  {
   "cell_type": "code",
   "execution_count": 63,
   "metadata": {
    "collapsed": false
   },
   "outputs": [],
   "source": [
    "class Box(topLeft: Point, bottomRight: Point, var text: String) extends Rectangle(topLeft, bottomRight) {\n",
    " \n",
    "    def this(rect: Rectangle, text: String) = this(rect.topLeft, rect.bottomRight, text)\n",
    "    \n",
    "    def changeText(newText: String) {text = newText}\n",
    "    override def toString(): String = topLeft.toString() + \" \" + text + \" \" + bottomRight.toString()\n",
    " }"
   ]
  },
  {
   "cell_type": "code",
   "execution_count": 64,
   "metadata": {
    "collapsed": false
   },
   "outputs": [
    {
     "name": "stdout",
     "output_type": "stream",
     "text": [
      "[10,10] - [60,40]\n",
      "[20,5] - [40,40]\n",
      "[10,5] Hi [60,40]\n",
      "false\n",
      "false\n",
      "true\n",
      "r1.perimeter=160.0\n",
      "r2.perimeter=110.0\n",
      "r3.perimeter=170.0\n"
     ]
    }
   ],
   "source": [
    "////\n",
    " val r1 = new Rectangle(10, 10, 50, 30)\n",
    " val r2 = new Rectangle(new Point(20,5), new Point(40, 40))\n",
    " val r3 = r1 + r2\n",
    " val b3 = new Box(r3, \"Hi\")\n",
    " \n",
    " val p = new Point(12, 8)\n",
    " println(r1)\n",
    " println(r2)\n",
    " println(b3)\n",
    " println(r1.contains(p))\n",
    " println(r2.contains(p))\n",
    " println(b3.contains(p))\n",
    " println(s\"r1.perimeter=${r1.perimeter}\")\n",
    " println(s\"r2.perimeter=${r2.perimeter}\")\n",
    " println(s\"r3.perimeter=${r3.perimeter}\")"
   ]
  }
 ],
 "metadata": {
  "kernelspec": {
   "display_name": "Apache Toree - Scala",
   "language": "scala",
   "name": "apache_toree_scala"
  },
  "language_info": {
   "file_extension": ".scala",
   "name": "scala",
   "version": "2.11.8"
  }
 },
 "nbformat": 4,
 "nbformat_minor": 2
}

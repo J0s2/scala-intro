{
 "cells": [
  {
   "cell_type": "markdown",
   "metadata": {},
   "source": [
    "![](../static/scala.jpg)"
   ]
  },
  {
   "cell_type": "markdown",
   "metadata": {},
   "source": [
    "## By Name Parameters\n"
   ]
  },
  {
   "cell_type": "markdown",
   "metadata": {},
   "source": [
    "You may pass a parameter to a function in two ways:\n",
    "* by-value: the expression correspondent to the parameter is evaluated right before the function execution\n",
    "* by-name: the expression correspondent to the parameter is evaluated in each use inside the function\n",
    "\n",
    "Especification:\n",
    "* by-value parameter: x: Int\n",
    "* by-name parameter: x: => Int"
   ]
  },
  {
   "cell_type": "code",
   "execution_count": 6,
   "metadata": {
    "collapsed": true
   },
   "outputs": [],
   "source": [
    "def currentTime(): Long = System.nanoTime"
   ]
  },
  {
   "cell_type": "code",
   "execution_count": 10,
   "metadata": {
    "collapsed": false
   },
   "outputs": [
    {
     "name": "stdout",
     "output_type": "stream",
     "text": [
      "time is 132701315609958\n",
      "time is 132701315609958\n"
     ]
    }
   ],
   "source": [
    "// by-value parameters\n",
    "def byValueFn(time: Long) {\n",
    "  println(s\"time is $time\")\n",
    "  (1 to 100000).foreach(x => x+1)\n",
    "  println(s\"time is $time\")\n",
    "}\n",
    "\n",
    "byValueFn(currentTime())"
   ]
  },
  {
   "cell_type": "code",
   "execution_count": 11,
   "metadata": {
    "collapsed": false
   },
   "outputs": [
    {
     "name": "stdout",
     "output_type": "stream",
     "text": [
      "time is 132796973706072\n",
      "time is 132796978203039\n"
     ]
    }
   ],
   "source": [
    "// by-name parameters\n",
    "def byNameFn(time: => Long) {\n",
    "  println(s\"time is $time\")\n",
    "  (1 to 100000).foreach(x => x+1)\n",
    "  println(s\"time is $time\")\n",
    "}\n",
    "\n",
    "byNameFn(currentTime())"
   ]
  }
 ],
 "metadata": {
  "kernelspec": {
   "display_name": "Apache Toree - Scala",
   "language": "scala",
   "name": "apache_toree_scala"
  },
  "language_info": {
   "file_extension": ".scala",
   "name": "scala",
   "version": "2.11.8"
  }
 },
 "nbformat": 4,
 "nbformat_minor": 2
}
